{
 "cells": [
  {
   "cell_type": "markdown",
   "source": [
    "# Wine Point Prediction"
   ],
   "metadata": {
    "collapsed": false
   }
  },
  {
   "cell_type": "markdown",
   "source": [
    "## Importing Libraries"
   ],
   "metadata": {
    "collapsed": false
   }
  },
  {
   "cell_type": "code",
   "execution_count": 1,
   "outputs": [],
   "source": [
    "import numpy as np\n",
    "import pandas as pd\n",
    "import matplotlib.pyplot as plt\n",
    "import seaborn as sns\n",
    "%matplotlib inline"
   ],
   "metadata": {
    "collapsed": false,
    "pycharm": {
     "name": "#%%\n"
    }
   }
  },
  {
   "cell_type": "markdown",
   "source": [
    "## Load Data\n",
    "\n",
    "Load and checkout the data from the dataset"
   ],
   "metadata": {
    "collapsed": false
   }
  },
  {
   "cell_type": "code",
   "execution_count": 2,
   "outputs": [
    {
     "data": {
      "text/plain": "    country                                        description  \\\n0     Italy  Aromas include tropical fruit, broom, brimston...   \n1  Portugal  This is ripe and fruity, a wine that is smooth...   \n2        US  Tart and snappy, the flavors of lime flesh and...   \n3        US  Pineapple rind, lemon pith and orange blossom ...   \n4        US  Much like the regular bottling from 2012, this...   \n\n                          designation  points  price           province  \\\n0                        Vulkà Bianco      87    NaN  Sicily & Sardinia   \n1                            Avidagos      87   15.0              Douro   \n2                                 NaN      87   14.0             Oregon   \n3                Reserve Late Harvest      87   13.0           Michigan   \n4  Vintner's Reserve Wild Child Block      87   65.0             Oregon   \n\n              region_1           region_2         taster_name  \\\n0                 Etna                NaN       Kerin O’Keefe   \n1                  NaN                NaN          Roger Voss   \n2    Willamette Valley  Willamette Valley        Paul Gregutt   \n3  Lake Michigan Shore                NaN  Alexander Peartree   \n4    Willamette Valley  Willamette Valley        Paul Gregutt   \n\n  taster_twitter_handle                                              title  \\\n0          @kerinokeefe                  Nicosia 2013 Vulkà Bianco  (Etna)   \n1            @vossroger      Quinta dos Avidagos 2011 Avidagos Red (Douro)   \n2           @paulgwine       Rainstorm 2013 Pinot Gris (Willamette Valley)   \n3                   NaN  St. Julian 2013 Reserve Late Harvest Riesling ...   \n4           @paulgwine   Sweet Cheeks 2012 Vintner's Reserve Wild Child...   \n\n          variety               winery  \n0     White Blend              Nicosia  \n1  Portuguese Red  Quinta dos Avidagos  \n2      Pinot Gris            Rainstorm  \n3        Riesling           St. Julian  \n4      Pinot Noir         Sweet Cheeks  ",
      "text/html": "<div>\n<style scoped>\n    .dataframe tbody tr th:only-of-type {\n        vertical-align: middle;\n    }\n\n    .dataframe tbody tr th {\n        vertical-align: top;\n    }\n\n    .dataframe thead th {\n        text-align: right;\n    }\n</style>\n<table border=\"1\" class=\"dataframe\">\n  <thead>\n    <tr style=\"text-align: right;\">\n      <th></th>\n      <th>country</th>\n      <th>description</th>\n      <th>designation</th>\n      <th>points</th>\n      <th>price</th>\n      <th>province</th>\n      <th>region_1</th>\n      <th>region_2</th>\n      <th>taster_name</th>\n      <th>taster_twitter_handle</th>\n      <th>title</th>\n      <th>variety</th>\n      <th>winery</th>\n    </tr>\n  </thead>\n  <tbody>\n    <tr>\n      <th>0</th>\n      <td>Italy</td>\n      <td>Aromas include tropical fruit, broom, brimston...</td>\n      <td>Vulkà Bianco</td>\n      <td>87</td>\n      <td>NaN</td>\n      <td>Sicily &amp; Sardinia</td>\n      <td>Etna</td>\n      <td>NaN</td>\n      <td>Kerin O’Keefe</td>\n      <td>@kerinokeefe</td>\n      <td>Nicosia 2013 Vulkà Bianco  (Etna)</td>\n      <td>White Blend</td>\n      <td>Nicosia</td>\n    </tr>\n    <tr>\n      <th>1</th>\n      <td>Portugal</td>\n      <td>This is ripe and fruity, a wine that is smooth...</td>\n      <td>Avidagos</td>\n      <td>87</td>\n      <td>15.0</td>\n      <td>Douro</td>\n      <td>NaN</td>\n      <td>NaN</td>\n      <td>Roger Voss</td>\n      <td>@vossroger</td>\n      <td>Quinta dos Avidagos 2011 Avidagos Red (Douro)</td>\n      <td>Portuguese Red</td>\n      <td>Quinta dos Avidagos</td>\n    </tr>\n    <tr>\n      <th>2</th>\n      <td>US</td>\n      <td>Tart and snappy, the flavors of lime flesh and...</td>\n      <td>NaN</td>\n      <td>87</td>\n      <td>14.0</td>\n      <td>Oregon</td>\n      <td>Willamette Valley</td>\n      <td>Willamette Valley</td>\n      <td>Paul Gregutt</td>\n      <td>@paulgwine</td>\n      <td>Rainstorm 2013 Pinot Gris (Willamette Valley)</td>\n      <td>Pinot Gris</td>\n      <td>Rainstorm</td>\n    </tr>\n    <tr>\n      <th>3</th>\n      <td>US</td>\n      <td>Pineapple rind, lemon pith and orange blossom ...</td>\n      <td>Reserve Late Harvest</td>\n      <td>87</td>\n      <td>13.0</td>\n      <td>Michigan</td>\n      <td>Lake Michigan Shore</td>\n      <td>NaN</td>\n      <td>Alexander Peartree</td>\n      <td>NaN</td>\n      <td>St. Julian 2013 Reserve Late Harvest Riesling ...</td>\n      <td>Riesling</td>\n      <td>St. Julian</td>\n    </tr>\n    <tr>\n      <th>4</th>\n      <td>US</td>\n      <td>Much like the regular bottling from 2012, this...</td>\n      <td>Vintner's Reserve Wild Child Block</td>\n      <td>87</td>\n      <td>65.0</td>\n      <td>Oregon</td>\n      <td>Willamette Valley</td>\n      <td>Willamette Valley</td>\n      <td>Paul Gregutt</td>\n      <td>@paulgwine</td>\n      <td>Sweet Cheeks 2012 Vintner's Reserve Wild Child...</td>\n      <td>Pinot Noir</td>\n      <td>Sweet Cheeks</td>\n    </tr>\n  </tbody>\n</table>\n</div>"
     },
     "execution_count": 2,
     "metadata": {},
     "output_type": "execute_result"
    }
   ],
   "source": [
    "df = pd.read_csv('../data/winemag-data-130k-v2.csv', index_col=0)\n",
    "df.head()"
   ],
   "metadata": {
    "collapsed": false,
    "pycharm": {
     "name": "#%%\n"
    }
   }
  },
  {
   "cell_type": "code",
   "execution_count": 3,
   "outputs": [
    {
     "name": "stdout",
     "output_type": "stream",
     "text": [
      "<class 'pandas.core.frame.DataFrame'>\n",
      "Int64Index: 129971 entries, 0 to 129970\n",
      "Data columns (total 13 columns):\n",
      " #   Column                 Non-Null Count   Dtype  \n",
      "---  ------                 --------------   -----  \n",
      " 0   country                129908 non-null  object \n",
      " 1   description            129971 non-null  object \n",
      " 2   designation            92506 non-null   object \n",
      " 3   points                 129971 non-null  int64  \n",
      " 4   price                  120975 non-null  float64\n",
      " 5   province               129908 non-null  object \n",
      " 6   region_1               108724 non-null  object \n",
      " 7   region_2               50511 non-null   object \n",
      " 8   taster_name            103727 non-null  object \n",
      " 9   taster_twitter_handle  98758 non-null   object \n",
      " 10  title                  129971 non-null  object \n",
      " 11  variety                129970 non-null  object \n",
      " 12  winery                 129971 non-null  object \n",
      "dtypes: float64(1), int64(1), object(11)\n",
      "memory usage: 13.9+ MB\n"
     ]
    }
   ],
   "source": [
    "df.info()"
   ],
   "metadata": {
    "collapsed": false,
    "pycharm": {
     "name": "#%%\n"
    }
   }
  },
  {
   "cell_type": "code",
   "execution_count": 4,
   "outputs": [
    {
     "data": {
      "text/plain": "<seaborn.axisgrid.PairGrid at 0x1a23258790>"
     },
     "execution_count": 4,
     "metadata": {},
     "output_type": "execute_result"
    },
    {
     "data": {
      "text/plain": "<Figure size 360x360 with 6 Axes>",
      "image/png": "[encoded data removed]"
     },
     "metadata": {
      "needs_background": "light"
     },
     "output_type": "display_data"
    }
   ],
   "source": [
    "sns.pairplot(df)"
   ],
   "metadata": {
    "collapsed": false,
    "pycharm": {
     "name": "#%%\n"
    }
   }
  },
  {
   "cell_type": "code",
   "execution_count": 5,
   "outputs": [
    {
     "data": {
      "text/plain": "<matplotlib.axes._subplots.AxesSubplot at 0x1a22947690>"
     },
     "execution_count": 5,
     "metadata": {},
     "output_type": "execute_result"
    },
    {
     "data": {
      "text/plain": "<Figure size 432x288 with 2 Axes>",
      "image/png": "[encoded data removed]"
     },
     "metadata": {
      "needs_background": "light"
     },
     "output_type": "display_data"
    }
   ],
   "source": [
    "sns.heatmap(df.corr(),cmap='coolwarm',annot=True)"
   ],
   "metadata": {
    "collapsed": false,
    "pycharm": {
     "name": "#%%\n"
    }
   }
  },
  {
   "cell_type": "markdown",
   "source": [
    "## Prepare Data"
   ],
   "metadata": {
    "collapsed": false
   }
  },
  {
   "cell_type": "code",
   "execution_count": 6,
   "outputs": [],
   "source": [
    "# As we don't need to know anything about the taster\n",
    "# then we can remove `taster_name` and `taster_twitter_handle` from the data.\n",
    "df = df.drop([\"taster_name\", \"taster_twitter_handle\"], axis=1)\n"
   ],
   "metadata": {
    "collapsed": false,
    "pycharm": {
     "name": "#%%\n"
    }
   }
  },
  {
   "cell_type": "code",
   "execution_count": 7,
   "outputs": [
    {
     "name": "stdout",
     "output_type": "stream",
     "text": [
      "<class 'pandas.core.frame.DataFrame'>\n",
      "Int64Index: 129971 entries, 0 to 129970\n",
      "Data columns (total 11 columns):\n",
      " #   Column       Non-Null Count   Dtype  \n",
      "---  ------       --------------   -----  \n",
      " 0   country      129908 non-null  object \n",
      " 1   description  129971 non-null  object \n",
      " 2   designation  92506 non-null   object \n",
      " 3   points       129971 non-null  int64  \n",
      " 4   price        120975 non-null  float64\n",
      " 5   province     129908 non-null  object \n",
      " 6   region_1     108724 non-null  object \n",
      " 7   region_2     50511 non-null   object \n",
      " 8   title        129971 non-null  object \n",
      " 9   variety      129970 non-null  object \n",
      " 10  winery       129971 non-null  object \n",
      "dtypes: float64(1), int64(1), object(9)\n",
      "memory usage: 16.9+ MB\n"
     ]
    }
   ],
   "source": [
    "df.info()"
   ],
   "metadata": {
    "collapsed": false,
    "pycharm": {
     "name": "#%%\n"
    }
   }
  },
  {
   "cell_type": "markdown",
   "source": [
    "Country and province data is valuable but as there's a few null values then we decided to remove them from the data."
   ],
   "metadata": {
    "collapsed": false,
    "pycharm": {
     "name": "#%% md\n"
    }
   }
  },
  {
   "cell_type": "code",
   "execution_count": 8,
   "outputs": [
    {
     "name": "stdout",
     "output_type": "stream",
     "text": [
      "Country null count:  63\n",
      "Province null count:  63\n",
      "(129971, 11)\n",
      "(129908, 11)\n"
     ]
    }
   ],
   "source": [
    "print(\"Country null count: \", df['country'].isnull().sum().sum())\n",
    "print(\"Province null count: \", df['province'].isnull().sum().sum())\n",
    "\n",
    "print(df.shape)\n",
    "\n",
    "df = df.dropna(subset=[\"country\", \"province\"])\n",
    "\n",
    "print(df.shape)"
   ],
   "metadata": {
    "collapsed": false,
    "pycharm": {
     "name": "#%%\n"
    }
   }
  },
  {
   "cell_type": "markdown",
   "source": [
    "We will also have a look if there's any duplicates and remove them from the data."
   ],
   "metadata": {
    "collapsed": false,
    "pycharm": {
     "name": "#%% md\n"
    }
   }
  },
  {
   "cell_type": "code",
   "source": [
    "df[df['description'].duplicated(keep = False)].sort_values('description').head()"
   ],
   "metadata": {
    "collapsed": false,
    "pycharm": {
     "name": "#%%\n"
    }
   },
   "execution_count": 9,
   "outputs": [
    {
     "data": {
      "text/plain": "       country                                        description  \\\n67614       US  100% Malbec, it's redolent with dark plums, wi...   \n46540       US  100% Malbec, it's redolent with dark plums, wi...   \n119702      US  100% Sangiovese, this pale pink wine has notes...   \n72181       US  100% Sangiovese, this pale pink wine has notes...   \n100745  France  87-89 Barrel sample. A pleasurable, perfumed w...   \n\n          designation  points  price    province              region_1  \\\n67614             NaN      87   20.0  Washington     Rattlesnake Hills   \n46540             NaN      87   20.0  Washington     Rattlesnake Hills   \n119702         Meadow      88   18.0  Washington  Columbia Valley (WA)   \n72181          Meadow      88   18.0  Washington  Columbia Valley (WA)   \n100745  Barrel sample      88    NaN    Bordeaux          Saint-Julien   \n\n               region_2                                              title  \\\n67614   Columbia Valley         Roza Ridge 2010 Malbec (Rattlesnake Hills)   \n46540   Columbia Valley         Roza Ridge 2010 Malbec (Rattlesnake Hills)   \n119702  Columbia Valley  Ross Andrew 2013 Meadow Rosé (Columbia Valley ...   \n72181   Columbia Valley  Ross Andrew 2013 Meadow Rosé (Columbia Valley ...   \n100745              NaN  Château Lalande-Borie 2008 Barrel sample  (Sai...   \n\n                         variety                 winery  \n67614                     Malbec             Roza Ridge  \n46540                     Malbec             Roza Ridge  \n119702                      Rosé            Ross Andrew  \n72181                       Rosé            Ross Andrew  \n100745  Bordeaux-style Red Blend  Château Lalande-Borie  ",
      "text/html": "<div>\n<style scoped>\n    .dataframe tbody tr th:only-of-type {\n        vertical-align: middle;\n    }\n\n    .dataframe tbody tr th {\n        vertical-align: top;\n    }\n\n    .dataframe thead th {\n        text-align: right;\n    }\n</style>\n<table border=\"1\" class=\"dataframe\">\n  <thead>\n    <tr style=\"text-align: right;\">\n      <th></th>\n      <th>country</th>\n      <th>description</th>\n      <th>designation</th>\n      <th>points</th>\n      <th>price</th>\n      <th>province</th>\n      <th>region_1</th>\n      <th>region_2</th>\n      <th>title</th>\n      <th>variety</th>\n      <th>winery</th>\n    </tr>\n  </thead>\n  <tbody>\n    <tr>\n      <th>67614</th>\n      <td>US</td>\n      <td>100% Malbec, it's redolent with dark plums, wi...</td>\n      <td>NaN</td>\n      <td>87</td>\n      <td>20.0</td>\n      <td>Washington</td>\n      <td>Rattlesnake Hills</td>\n      <td>Columbia Valley</td>\n      <td>Roza Ridge 2010 Malbec (Rattlesnake Hills)</td>\n      <td>Malbec</td>\n      <td>Roza Ridge</td>\n    </tr>\n    <tr>\n      <th>46540</th>\n      <td>US</td>\n      <td>100% Malbec, it's redolent with dark plums, wi...</td>\n      <td>NaN</td>\n      <td>87</td>\n      <td>20.0</td>\n      <td>Washington</td>\n      <td>Rattlesnake Hills</td>\n      <td>Columbia Valley</td>\n      <td>Roza Ridge 2010 Malbec (Rattlesnake Hills)</td>\n      <td>Malbec</td>\n      <td>Roza Ridge</td>\n    </tr>\n    <tr>\n      <th>119702</th>\n      <td>US</td>\n      <td>100% Sangiovese, this pale pink wine has notes...</td>\n      <td>Meadow</td>\n      <td>88</td>\n      <td>18.0</td>\n      <td>Washington</td>\n      <td>Columbia Valley (WA)</td>\n      <td>Columbia Valley</td>\n      <td>Ross Andrew 2013 Meadow Rosé (Columbia Valley ...</td>\n      <td>Rosé</td>\n      <td>Ross Andrew</td>\n    </tr>\n    <tr>\n      <th>72181</th>\n      <td>US</td>\n      <td>100% Sangiovese, this pale pink wine has notes...</td>\n      <td>Meadow</td>\n      <td>88</td>\n      <td>18.0</td>\n      <td>Washington</td>\n      <td>Columbia Valley (WA)</td>\n      <td>Columbia Valley</td>\n      <td>Ross Andrew 2013 Meadow Rosé (Columbia Valley ...</td>\n      <td>Rosé</td>\n      <td>Ross Andrew</td>\n    </tr>\n    <tr>\n      <th>100745</th>\n      <td>France</td>\n      <td>87-89 Barrel sample. A pleasurable, perfumed w...</td>\n      <td>Barrel sample</td>\n      <td>88</td>\n      <td>NaN</td>\n      <td>Bordeaux</td>\n      <td>Saint-Julien</td>\n      <td>NaN</td>\n      <td>Château Lalande-Borie 2008 Barrel sample  (Sai...</td>\n      <td>Bordeaux-style Red Blend</td>\n      <td>Château Lalande-Borie</td>\n    </tr>\n  </tbody>\n</table>\n</div>"
     },
     "execution_count": 9,
     "metadata": {},
     "output_type": "execute_result"
    }
   ]
  },
  {
   "cell_type": "code",
   "execution_count": 10,
   "outputs": [],
   "source": [
    "df = df.drop_duplicates('description')"
   ],
   "metadata": {
    "collapsed": false,
    "pycharm": {
     "name": "#%%\n"
    }
   }
  },
  {
   "cell_type": "markdown",
   "source": [
    "We need to remove null values from the points column"
   ],
   "metadata": {
    "collapsed": false,
    "pycharm": {
     "name": "#%% md\n"
    }
   }
  },
  {
   "cell_type": "code",
   "execution_count": 11,
   "outputs": [
    {
     "name": "stdout",
     "output_type": "stream",
     "text": [
      "0\n"
     ]
    }
   ],
   "source": [
    "df = df.dropna(subset = ['price'])\n",
    "\n",
    "print(df['price'].isnull().sum().sum())"
   ],
   "metadata": {
    "collapsed": false,
    "pycharm": {
     "name": "#%%\n"
    }
   }
  },
  {
   "cell_type": "code",
   "execution_count": 12,
   "outputs": [
    {
     "data": {
      "text/plain": "              points          price\ncount  111512.000000  111512.000000\nmean       88.413902      35.625906\nstd         3.099318      42.116343\nmin        80.000000       4.000000\n25%        86.000000      17.000000\n50%        88.000000      25.000000\n75%        91.000000      42.000000\nmax       100.000000    3300.000000",
      "text/html": "<div>\n<style scoped>\n    .dataframe tbody tr th:only-of-type {\n        vertical-align: middle;\n    }\n\n    .dataframe tbody tr th {\n        vertical-align: top;\n    }\n\n    .dataframe thead th {\n        text-align: right;\n    }\n</style>\n<table border=\"1\" class=\"dataframe\">\n  <thead>\n    <tr style=\"text-align: right;\">\n      <th></th>\n      <th>points</th>\n      <th>price</th>\n    </tr>\n  </thead>\n  <tbody>\n    <tr>\n      <th>count</th>\n      <td>111512.000000</td>\n      <td>111512.000000</td>\n    </tr>\n    <tr>\n      <th>mean</th>\n      <td>88.413902</td>\n      <td>35.625906</td>\n    </tr>\n    <tr>\n      <th>std</th>\n      <td>3.099318</td>\n      <td>42.116343</td>\n    </tr>\n    <tr>\n      <th>min</th>\n      <td>80.000000</td>\n      <td>4.000000</td>\n    </tr>\n    <tr>\n      <th>25%</th>\n      <td>86.000000</td>\n      <td>17.000000</td>\n    </tr>\n    <tr>\n      <th>50%</th>\n      <td>88.000000</td>\n      <td>25.000000</td>\n    </tr>\n    <tr>\n      <th>75%</th>\n      <td>91.000000</td>\n      <td>42.000000</td>\n    </tr>\n    <tr>\n      <th>max</th>\n      <td>100.000000</td>\n      <td>3300.000000</td>\n    </tr>\n  </tbody>\n</table>\n</div>"
     },
     "execution_count": 12,
     "metadata": {},
     "output_type": "execute_result"
    }
   ],
   "source": [
    "df.describe()"
   ],
   "metadata": {
    "collapsed": false,
    "pycharm": {
     "name": "#%%\n"
    }
   }
  },
  {
   "cell_type": "code",
   "execution_count": 13,
   "outputs": [],
   "source": [
    "from sklearn.linear_model import LogisticRegression\n",
    "from sklearn.metrics import classification_report, confusion_matrix\n",
    "from sklearn.model_selection import train_test_split"
   ],
   "metadata": {
    "collapsed": false,
    "pycharm": {
     "name": "#%%\n"
    }
   }
  },
  {
   "cell_type": "code",
   "execution_count": 14,
   "outputs": [
    {
     "name": "stdout",
     "output_type": "stream",
     "text": [
      "Train data size:  89209\n",
      "Test data size:  22303\n"
     ]
    }
   ],
   "source": [
    "train, test = train_test_split(df, test_size=0.2)\n",
    "print('Train data size: ', len(train))\n",
    "print('Test data size: ', len(test))"
   ],
   "metadata": {
    "collapsed": false,
    "pycharm": {
     "name": "#%%\n"
    }
   }
  },
  {
   "cell_type": "code",
   "execution_count": 15,
   "outputs": [
    {
     "name": "stdout",
     "output_type": "stream",
     "text": [
      "['price']\n",
      "['points']\n"
     ]
    }
   ],
   "source": [
    "# x_list = list(df)\n",
    "x_list = ['price']\n",
    "# x_list.remove('points')\n",
    "# x_list.remove('price')\n",
    "y_list = ['points']\n",
    "print(x_list)\n",
    "print(y_list)\n",
    "\n",
    "X = df[x_list]\n",
    "y = df[y_list]\n",
    "\n",
    "X_train, X_test, y_train, y_test = train_test_split(X, y, test_size=0.2, random_state=42)"
   ],
   "metadata": {
    "collapsed": false,
    "pycharm": {
     "name": "#%%\n"
    }
   }
  },
  {
   "cell_type": "code",
   "execution_count": 16,
   "outputs": [],
   "source": [
    "# from sklearn.naive_bayes import GaussianNB\n",
    "\n",
    "# nb_model = GaussianNB()\n",
    "#\n",
    "# nb_model.fit(X_train, y_train)"
   ],
   "metadata": {
    "collapsed": false,
    "pycharm": {
     "name": "#%%\n"
    }
   }
  },
  {
   "cell_type": "code",
   "execution_count": 17,
   "outputs": [
    {
     "name": "stdout",
     "output_type": "stream",
     "text": [
      "Index(['price'], dtype='object')\n",
      "0\n"
     ]
    },
    {
     "name": "stderr",
     "output_type": "stream",
     "text": [
      "/usr/local/anaconda3/envs/mandatory-2/lib/python3.7/site-packages/ipykernel_launcher.py:15: DataConversionWarning: A column-vector y was passed when a 1d array was expected. Please change the shape of y to (n_samples, ), for example using ravel().\n",
      "  from ipykernel import kernelapp as app\n"
     ]
    },
    {
     "data": {
      "text/plain": "KNeighborsClassifier(algorithm='auto', leaf_size=30, metric='euclidean',\n                     metric_params=None, n_jobs=None, n_neighbors=5, p=2,\n                     weights='uniform')"
     },
     "execution_count": 17,
     "metadata": {},
     "output_type": "execute_result"
    }
   ],
   "source": [
    "import numpy as np\n",
    "import pandas as pd\n",
    "from matplotlib import pyplot as plt\n",
    "from sklearn.metrics import confusion_matrix\n",
    "from sklearn.neighbors import KNeighborsClassifier\n",
    "from sklearn.model_selection import train_test_split\n",
    "import seaborn as sns\n",
    "sns.set()\n",
    "\n",
    "print(X_train.columns)\n",
    "\n",
    "print(df['price'].isnull().sum().sum())\n",
    "\n",
    "knn = KNeighborsClassifier(n_neighbors=5, metric='euclidean')\n",
    "knn.fit(X_train, y_train)"
   ],
   "metadata": {
    "collapsed": false,
    "pycharm": {
     "name": "#%%\n"
    }
   }
  },
  {
   "cell_type": "code",
   "execution_count": 18,
   "outputs": [],
   "source": [
    "y_pred = knn.predict(X_test)"
   ],
   "metadata": {
    "collapsed": false,
    "pycharm": {
     "name": "#%%\n"
    }
   }
  },
  {
   "cell_type": "code",
   "execution_count": 19,
   "outputs": [
    {
     "data": {
      "text/plain": "<matplotlib.axes._subplots.AxesSubplot at 0x1a286a9290>"
     },
     "execution_count": 19,
     "metadata": {},
     "output_type": "execute_result"
    },
    {
     "data": {
      "text/plain": "<Figure size 432x288 with 1 Axes>",
      "image/png": "[encoded data removed]"
     },
     "metadata": {},
     "output_type": "display_data"
    }
   ],
   "source": [
    "sns.scatterplot(\n",
    "    x='price',\n",
    "    y='points',\n",
    "    data=X_test.join(y_test, how='outer')\n",
    ")"
   ],
   "metadata": {
    "collapsed": false,
    "pycharm": {
     "name": "#%%\n"
    }
   }
  },
  {
   "cell_type": "code",
   "execution_count": 20,
   "outputs": [
    {
     "data": {
      "text/plain": "<matplotlib.collections.PathCollection at 0x1a2987e210>"
     },
     "execution_count": 20,
     "metadata": {},
     "output_type": "execute_result"
    },
    {
     "data": {
      "text/plain": "<Figure size 432x288 with 1 Axes>",
      "image/png": "[encoded data removed]"
     },
     "metadata": {},
     "output_type": "display_data"
    }
   ],
   "source": [
    "plt.scatter(\n",
    "    X_test['price'],\n",
    "    y_test['points'],\n",
    "    c=y_pred,\n",
    "    cmap='coolwarm',\n",
    "    alpha=0.7\n",
    ")"
   ],
   "metadata": {
    "collapsed": false,
    "pycharm": {
     "name": "#%%\n"
    }
   }
  },
  {
   "cell_type": "code",
   "execution_count": 21,
   "outputs": [
    {
     "data": {
      "text/plain": "array([[ 13,   5,   7,   5,   9,  16,   8,  17,   1,   5,   2,   2,   2,\n          1,   0,   0,   0,   0,   0,   0,   0],\n       [ 11,   3,  10,  11,  18,  19,  10,  24,   1,   9,   3,   3,   0,\n          0,   0,   0,   0,   0,   0,   0,   0],\n       [ 24,  17,  22,  15,  23,  46,  37,  89,   9,  26,   6,  15,   4,\n          1,   0,   0,   0,   0,   0,   0,   0],\n       [ 46,  20,  40,  29,  55,  80,  74, 138,  14,  35,  11,  15,   1,\n          6,   0,   0,   0,   0,   0,   0,   0],\n       [108,  35,  76,  50,  94, 177, 153, 289,  30,  68,  22,  32,  13,\n         15,   0,   0,   0,   0,   0,   0,   0],\n       [125,  38, 109,  84, 114, 230, 214, 475,  31, 130,  27,  72,  10,\n         23,   1,   0,   0,   0,   0,   0,   0],\n       [135,  23,  96,  94, 124, 244, 276, 646,  69, 156,  59, 119,  34,\n         31,   5,   0,   0,   0,   0,   0,   0],\n       [142,  19, 144, 133, 144, 248, 312, 935, 117, 253,  97, 171,  64,\n         55,   8,   1,   0,   0,   0,   0,   0],\n       [ 75,   4, 119,  78, 108, 193, 289, 968, 160, 307, 142, 233,  84,\n         73,  15,   1,   0,   0,   0,   0,   0],\n       [ 37,   0,  80,  68,  78,  98, 186, 712, 127, 189, 132, 209,  69,\n         50,  11,   3,   0,   0,   0,   0,   0],\n       [ 23,   0,  93,  34,  85, 131, 163, 810, 199, 270, 198, 269, 129,\n        109,  25,   1,   2,   0,   0,   0,   0],\n       [  4,   0,  58,   7,  69, 114,  82, 566, 181, 156, 152, 257, 149,\n        133,  29,   2,   0,   0,   0,   0,   0],\n       [  2,   0,  18,   8,  52,  69,  52, 396, 176, 131, 176, 237, 142,\n        148,  40,   2,   2,   1,   0,   0,   0],\n       [  0,   0,   7,   1,  20,  59,  27, 234, 140,  69, 133, 172, 145,\n        134,  31,   6,   2,   2,   0,   0,   0],\n       [  0,   0,   1,   0,   4,  56,  22, 116,  65,  41,  77,  81,  89,\n         83,  41,  10,   5,   3,   0,   0,   0],\n       [  0,   0,   0,   0,   1,  12,   3,  43,  25,  18,  34,  34,  42,\n         42,  20,  10,   2,   1,   0,   0,   0],\n       [  0,   0,   0,   0,   1,   4,   5,  10,   2,   9,  11,  11,  16,\n         14,  14,   7,   4,   2,   0,   0,   0],\n       [  0,   0,   0,   0,   0,   1,   0,   0,   4,   5,   5,   7,  12,\n          5,   0,   2,   1,   2,   0,   0,   0],\n       [  0,   0,   0,   0,   0,   0,   0,   0,   2,   3,   1,   1,   0,\n          1,   0,   1,   0,   1,   0,   0,   0],\n       [  0,   0,   0,   0,   0,   0,   0,   2,   0,   1,   0,   2,   0,\n          3,   1,   1,   0,   0,   0,   0,   0],\n       [  0,   0,   0,   0,   0,   0,   0,   1,   0,   0,   1,   0,   1,\n          1,   0,   0,   0,   0,   0,   0,   0]])"
     },
     "execution_count": 21,
     "metadata": {},
     "output_type": "execute_result"
    }
   ],
   "source": [
    "confusion_matrix(y_test, y_pred)\n"
   ],
   "metadata": {
    "collapsed": false,
    "pycharm": {
     "name": "#%%\n"
    }
   }
  },
  {
   "cell_type": "code",
   "execution_count": 22,
   "outputs": [
    {
     "data": {
      "text/plain": "array([[0., 0., 0., ..., 0., 0., 0.],\n       [0., 0., 0., ..., 0., 0., 0.],\n       [0., 0., 0., ..., 0., 0., 0.],\n       ...,\n       [0., 0., 0., ..., 0., 0., 0.],\n       [0., 0., 0., ..., 0., 0., 0.],\n       [0., 0., 0., ..., 0., 0., 0.]])"
     },
     "execution_count": 22,
     "metadata": {},
     "output_type": "execute_result"
    }
   ],
   "source": [
    "knn.predict_proba(X_test)"
   ],
   "metadata": {
    "collapsed": false,
    "pycharm": {
     "name": "#%%\n"
    }
   }
  },
  {
   "cell_type": "code",
   "execution_count": 23,
   "outputs": [
    {
     "ename": "AttributeError",
     "evalue": "'KNeighborsClassifier' object has no attribute 'proba'",
     "output_type": "error",
     "traceback": [
      "\u001B[0;31m---------------------------------------------------------------------------\u001B[0m",
      "\u001B[0;31mAttributeError\u001B[0m                            Traceback (most recent call last)",
      "\u001B[0;32m<ipython-input-23-704cbf58d5f7>\u001B[0m in \u001B[0;36m<module>\u001B[0;34m\u001B[0m\n\u001B[0;32m----> 1\u001B[0;31m \u001B[0mknn\u001B[0m\u001B[0;34m.\u001B[0m\u001B[0mproba\u001B[0m\u001B[0;34m(\u001B[0m\u001B[0mX_test\u001B[0m\u001B[0;34m)\u001B[0m\u001B[0;34m\u001B[0m\u001B[0;34m\u001B[0m\u001B[0m\n\u001B[0m\u001B[1;32m      2\u001B[0m \u001B[0;34m\u001B[0m\u001B[0m\n",
      "\u001B[0;31mAttributeError\u001B[0m: 'KNeighborsClassifier' object has no attribute 'proba'"
     ]
    }
   ],
   "source": [
    "knn.proba(X_test)"
   ],
   "metadata": {
    "collapsed": false,
    "pycharm": {
     "name": "#%%\n"
    }
   }
  },
  {
   "cell_type": "code",
   "execution_count": null,
   "outputs": [],
   "source": [
    "knn_acc = knn.score(X_train, y_train) * 100\n",
    "knn_acc"
   ],
   "metadata": {
    "collapsed": false,
    "pycharm": {
     "name": "#%%\n"
    }
   }
  },
  {
   "cell_type": "code",
   "execution_count": null,
   "outputs": [],
   "source": [
    "import matplotlib.pyplot as plt\n",
    "import numpy as np\n",
    "from sklearn import datasets, linear_model\n",
    "from sklearn.metrics import mean_squared_error, r2_score"
   ],
   "metadata": {
    "collapsed": false,
    "pycharm": {
     "name": "#%%\n"
    }
   }
  },
  {
   "cell_type": "code",
   "execution_count": null,
   "outputs": [],
   "source": [
    "linear_model_y = df.pop('price')\n",
    "print(linear_model_y)\n",
    "linear_model_x = df\n",
    "print(linear_model_x.columns)"
   ],
   "metadata": {
    "collapsed": false,
    "pycharm": {
     "name": "#%%\n"
    }
   }
  },
  {
   "cell_type": "code",
   "execution_count": null,
   "outputs": [],
   "source": [
    "print('Points and price predictions:')\n",
    "print('KNeighborsClassifier score: ', knn_acc)\n"
   ],
   "metadata": {
    "collapsed": false,
    "pycharm": {
     "name": "#%%\n"
    }
   }
  }
 ],
 "metadata": {
  "kernelspec": {
   "display_name": "Python 3",
   "language": "python",
   "name": "python3"
  },
  "language_info": {
   "codemirror_mode": {
    "name": "ipython",
    "version": 2
   },
   "file_extension": ".py",
   "mimetype": "text/x-python",
   "name": "python",
   "nbconvert_exporter": "python",
   "pygments_lexer": "ipython2",
   "version": "2.7.6"
  }
 },
 "nbformat": 4,
 "nbformat_minor": 0
}