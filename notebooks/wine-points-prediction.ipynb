{
 "cells": [
  {
   "cell_type": "code",
   "execution_count": 1,
   "metadata": {
    "collapsed": true
   },
   "outputs": [
    {
     "name": "stdout",
     "output_type": "stream",
     "text": [
      "Before removing duplicates: 129971\n"
     ]
    },
    {
     "data": {
      "text/plain": "        country                                        description  \\\n129966  Germany  Notes of honeysuckle and cantaloupe sweeten th...   \n129967       US  Citation is given as much as a decade of bottl...   \n129968   France  Well-drained gravel soil gives this wine its c...   \n129969   France  A dry style of Pinot Gris, this is crisp with ...   \n129970   France  Big, rich and off-dry, this is powered by inte...   \n\n                                   designation  points  price province  \\\n129966  Brauneberger Juffer-Sonnenuhr Spätlese      90   28.0    Mosel   \n129967                                     NaN      90   75.0   Oregon   \n129968                                   Kritt      90   30.0   Alsace   \n129969                                     NaN      90   32.0   Alsace   \n129970           Lieu-dit Harth Cuvée Caroline      90   21.0   Alsace   \n\n       region_1      region_2         taster_name taster_twitter_handle  \\\n129966      NaN           NaN  Anna Lee C. Iijima                   NaN   \n129967   Oregon  Oregon Other        Paul Gregutt           @paulgwine    \n129968   Alsace           NaN          Roger Voss            @vossroger   \n129969   Alsace           NaN          Roger Voss            @vossroger   \n129970   Alsace           NaN          Roger Voss            @vossroger   \n\n                                                    title         variety  \\\n129966  Dr. H. Thanisch (Erben Müller-Burggraef) 2013 ...        Riesling   \n129967                  Citation 2004 Pinot Noir (Oregon)      Pinot Noir   \n129968  Domaine Gresser 2013 Kritt Gewurztraminer (Als...  Gewürztraminer   \n129969      Domaine Marcel Deiss 2012 Pinot Gris (Alsace)      Pinot Gris   \n129970  Domaine Schoffit 2012 Lieu-dit Harth Cuvée Car...  Gewürztraminer   \n\n                                          winery  \n129966  Dr. H. Thanisch (Erben Müller-Burggraef)  \n129967                                  Citation  \n129968                           Domaine Gresser  \n129969                      Domaine Marcel Deiss  \n129970                          Domaine Schoffit  ",
      "text/html": "<div>\n<style scoped>\n    .dataframe tbody tr th:only-of-type {\n        vertical-align: middle;\n    }\n\n    .dataframe tbody tr th {\n        vertical-align: top;\n    }\n\n    .dataframe thead th {\n        text-align: right;\n    }\n</style>\n<table border=\"1\" class=\"dataframe\">\n  <thead>\n    <tr style=\"text-align: right;\">\n      <th></th>\n      <th>country</th>\n      <th>description</th>\n      <th>designation</th>\n      <th>points</th>\n      <th>price</th>\n      <th>province</th>\n      <th>region_1</th>\n      <th>region_2</th>\n      <th>taster_name</th>\n      <th>taster_twitter_handle</th>\n      <th>title</th>\n      <th>variety</th>\n      <th>winery</th>\n    </tr>\n  </thead>\n  <tbody>\n    <tr>\n      <th>129966</th>\n      <td>Germany</td>\n      <td>Notes of honeysuckle and cantaloupe sweeten th...</td>\n      <td>Brauneberger Juffer-Sonnenuhr Spätlese</td>\n      <td>90</td>\n      <td>28.0</td>\n      <td>Mosel</td>\n      <td>NaN</td>\n      <td>NaN</td>\n      <td>Anna Lee C. Iijima</td>\n      <td>NaN</td>\n      <td>Dr. H. Thanisch (Erben Müller-Burggraef) 2013 ...</td>\n      <td>Riesling</td>\n      <td>Dr. H. Thanisch (Erben Müller-Burggraef)</td>\n    </tr>\n    <tr>\n      <th>129967</th>\n      <td>US</td>\n      <td>Citation is given as much as a decade of bottl...</td>\n      <td>NaN</td>\n      <td>90</td>\n      <td>75.0</td>\n      <td>Oregon</td>\n      <td>Oregon</td>\n      <td>Oregon Other</td>\n      <td>Paul Gregutt</td>\n      <td>@paulgwine</td>\n      <td>Citation 2004 Pinot Noir (Oregon)</td>\n      <td>Pinot Noir</td>\n      <td>Citation</td>\n    </tr>\n    <tr>\n      <th>129968</th>\n      <td>France</td>\n      <td>Well-drained gravel soil gives this wine its c...</td>\n      <td>Kritt</td>\n      <td>90</td>\n      <td>30.0</td>\n      <td>Alsace</td>\n      <td>Alsace</td>\n      <td>NaN</td>\n      <td>Roger Voss</td>\n      <td>@vossroger</td>\n      <td>Domaine Gresser 2013 Kritt Gewurztraminer (Als...</td>\n      <td>Gewürztraminer</td>\n      <td>Domaine Gresser</td>\n    </tr>\n    <tr>\n      <th>129969</th>\n      <td>France</td>\n      <td>A dry style of Pinot Gris, this is crisp with ...</td>\n      <td>NaN</td>\n      <td>90</td>\n      <td>32.0</td>\n      <td>Alsace</td>\n      <td>Alsace</td>\n      <td>NaN</td>\n      <td>Roger Voss</td>\n      <td>@vossroger</td>\n      <td>Domaine Marcel Deiss 2012 Pinot Gris (Alsace)</td>\n      <td>Pinot Gris</td>\n      <td>Domaine Marcel Deiss</td>\n    </tr>\n    <tr>\n      <th>129970</th>\n      <td>France</td>\n      <td>Big, rich and off-dry, this is powered by inte...</td>\n      <td>Lieu-dit Harth Cuvée Caroline</td>\n      <td>90</td>\n      <td>21.0</td>\n      <td>Alsace</td>\n      <td>Alsace</td>\n      <td>NaN</td>\n      <td>Roger Voss</td>\n      <td>@vossroger</td>\n      <td>Domaine Schoffit 2012 Lieu-dit Harth Cuvée Car...</td>\n      <td>Gewürztraminer</td>\n      <td>Domaine Schoffit</td>\n    </tr>\n  </tbody>\n</table>\n</div>"
     },
     "execution_count": 1,
     "metadata": {},
     "output_type": "execute_result"
    }
   ],
   "source": [
    "import numpy as np\n",
    "import pandas as pd\n",
    "import matplotlib.pyplot as plt\n",
    "import seaborn as sns\n",
    "sns.set_style('white')\n",
    "sns.set_context('notebook', font_scale=1.5)\n",
    "%matplotlib inline\n",
    "import warnings\n",
    "warnings.filterwarnings('ignore')\n",
    "\n",
    "wine_reviews = pd.read_csv(\"../data/winemag-data-130k-v2.csv\", index_col=0)\n",
    "print(\"Before removing duplicates:\", len(wine_reviews))\n",
    "wine_reviews.tail()"
   ]
  },
  {
   "cell_type": "code",
   "execution_count": 2,
   "outputs": [
    {
     "name": "stdout",
     "output_type": "stream",
     "text": [
      "Removing duplicates based on all columns: 119988\n"
     ]
    }
   ],
   "source": [
    "wine_reviews = wine_reviews.drop_duplicates()\n",
    "print(\"Removing duplicates based on all columns:\", len(wine_reviews))"
   ],
   "metadata": {
    "collapsed": false,
    "pycharm": {
     "name": "#%%\n"
    }
   }
  },
  {
   "cell_type": "code",
   "execution_count": 3,
   "outputs": [
    {
     "name": "stdout",
     "output_type": "stream",
     "text": [
      "Removing duplicates based on description: 119955\n"
     ]
    }
   ],
   "source": [
    "wine_reviews_ddp = wine_reviews.drop_duplicates('description')\n",
    "print(\"Removing duplicates based on description:\", len(wine_reviews_ddp))"
   ],
   "metadata": {
    "collapsed": false,
    "pycharm": {
     "name": "#%%\n"
    }
   }
  },
  {
   "cell_type": "code",
   "execution_count": 4,
   "outputs": [
    {
     "data": {
      "text/plain": "       country                                        description  \\\n2159     Italy  Easygoing and enjoyable, this has aromas of ma...   \n4216     Italy  This zesty red has pretty aromas that suggest ...   \n8859        US  Hugely delicious, just a joy to drink. So soft...   \n12090       US  Seductively tart in lemon pith, cranberry and ...   \n13063       US  Cigar box, café au lait, and dried tobacco aro...   \n...        ...                                                ...   \n109793      US  The tannins are so fierce on this baby Caberne...   \n115505   Italy  Sleek by Amarone standards, this opens with ar...   \n115743  Greece  Aromas of citrus, melon and orange blossom sta...   \n117429   Italy  Ripe plum, game, truffle, leather and menthol ...   \n118913   Italy  Classically structured, this still needs to op...   \n\n                   designation  points  price       province  \\\n2159                       NaN      84   15.0  Central Italy   \n4216                       NaN      88   30.0        Tuscany   \n8859      Vintner Select Cuvée      93  130.0     California   \n12090   Woods Vineyard Rosé of      91   29.0     California   \n13063             Estate Grown      88   30.0     Washington   \n...                        ...     ...    ...            ...   \n109793                     NaN      95   55.0     California   \n115505                     NaN      90   40.0         Veneto   \n115743                     NaN      89   22.0     Cephalonia   \n117429                     NaN      87   40.0        Tuscany   \n118913                 Villero      90    NaN       Piedmont   \n\n                          region_1         region_2       taster_name  \\\n2159       Montepulciano d'Abruzzo              NaN     Kerin O’Keefe   \n4216           Rosso di Montalcino              NaN     Kerin O’Keefe   \n8859                   Napa Valley             Napa               NaN   \n12090         Russian River Valley           Sonoma    Virginie Boone   \n13063                 Red Mountain  Columbia Valley  Sean P. Sullivan   \n...                            ...              ...               ...   \n109793             Howell Mountain             Napa               NaN   \n115505  Amarone della Valpolicella              NaN     Kerin O’Keefe   \n115743                         NaN              NaN   Susan Kostrzewa   \n117429      Brunello di Montalcino              NaN     Kerin O’Keefe   \n118913                      Barolo              NaN     Kerin O’Keefe   \n\n       taster_twitter_handle  \\\n2159            @kerinokeefe   \n4216            @kerinokeefe   \n8859                     NaN   \n12090                @vboone   \n13063          @wawinereport   \n...                      ...   \n109793                   NaN   \n115505          @kerinokeefe   \n115743         @suskostrzewa   \n117429          @kerinokeefe   \n118913          @kerinokeefe   \n\n                                                    title             variety  \\\n2159                 Valori 2014  Montepulciano d'Abruzzo       Montepulciano   \n4216                    Ridolfi 2014  Rosso di Montalcino          Sangiovese   \n8859    Pride Mountain 2008 Vintner Select Cuvée Caber...  Cabernet Sauvignon   \n12090   Ousterhout 2014 Woods Vineyard Rosé of Pinot N...          Pinot Noir   \n13063   Ambassador Vineyard 2013 Estate Grown Syrah (R...               Syrah   \n...                                                   ...                 ...   \n109793     La Jota Vineyard 2009 Merlot (Howell Mountain)              Merlot   \n115505   Villa Annaberta 2012  Amarone della Valpolicella           Red Blend   \n115743                 Gentilini 2015 Robola (Cephalonia)              Robola   \n117429         Poggiarellino 2011  Brunello di Montalcino          Sangiovese   \n118913                      Boroli 2011 Villero  (Barolo)            Nebbiolo   \n\n                     winery     _merge  \n2159                 Valori       both  \n4216                Ridolfi       both  \n8859         Pride Mountain       both  \n12090            Ousterhout       both  \n13063   Ambassador Vineyard       both  \n...                     ...        ...  \n109793     La Jota Vineyard  left_only  \n115505      Villa Annaberta  left_only  \n115743            Gentilini  left_only  \n117429        Poggiarellino  left_only  \n118913               Boroli  left_only  \n\n[66 rows x 14 columns]",
      "text/html": "<div>\n<style scoped>\n    .dataframe tbody tr th:only-of-type {\n        vertical-align: middle;\n    }\n\n    .dataframe tbody tr th {\n        vertical-align: top;\n    }\n\n    .dataframe thead th {\n        text-align: right;\n    }\n</style>\n<table border=\"1\" class=\"dataframe\">\n  <thead>\n    <tr style=\"text-align: right;\">\n      <th></th>\n      <th>country</th>\n      <th>description</th>\n      <th>designation</th>\n      <th>points</th>\n      <th>price</th>\n      <th>province</th>\n      <th>region_1</th>\n      <th>region_2</th>\n      <th>taster_name</th>\n      <th>taster_twitter_handle</th>\n      <th>title</th>\n      <th>variety</th>\n      <th>winery</th>\n      <th>_merge</th>\n    </tr>\n  </thead>\n  <tbody>\n    <tr>\n      <th>2159</th>\n      <td>Italy</td>\n      <td>Easygoing and enjoyable, this has aromas of ma...</td>\n      <td>NaN</td>\n      <td>84</td>\n      <td>15.0</td>\n      <td>Central Italy</td>\n      <td>Montepulciano d'Abruzzo</td>\n      <td>NaN</td>\n      <td>Kerin O’Keefe</td>\n      <td>@kerinokeefe</td>\n      <td>Valori 2014  Montepulciano d'Abruzzo</td>\n      <td>Montepulciano</td>\n      <td>Valori</td>\n      <td>both</td>\n    </tr>\n    <tr>\n      <th>4216</th>\n      <td>Italy</td>\n      <td>This zesty red has pretty aromas that suggest ...</td>\n      <td>NaN</td>\n      <td>88</td>\n      <td>30.0</td>\n      <td>Tuscany</td>\n      <td>Rosso di Montalcino</td>\n      <td>NaN</td>\n      <td>Kerin O’Keefe</td>\n      <td>@kerinokeefe</td>\n      <td>Ridolfi 2014  Rosso di Montalcino</td>\n      <td>Sangiovese</td>\n      <td>Ridolfi</td>\n      <td>both</td>\n    </tr>\n    <tr>\n      <th>8859</th>\n      <td>US</td>\n      <td>Hugely delicious, just a joy to drink. So soft...</td>\n      <td>Vintner Select Cuvée</td>\n      <td>93</td>\n      <td>130.0</td>\n      <td>California</td>\n      <td>Napa Valley</td>\n      <td>Napa</td>\n      <td>NaN</td>\n      <td>NaN</td>\n      <td>Pride Mountain 2008 Vintner Select Cuvée Caber...</td>\n      <td>Cabernet Sauvignon</td>\n      <td>Pride Mountain</td>\n      <td>both</td>\n    </tr>\n    <tr>\n      <th>12090</th>\n      <td>US</td>\n      <td>Seductively tart in lemon pith, cranberry and ...</td>\n      <td>Woods Vineyard Rosé of</td>\n      <td>91</td>\n      <td>29.0</td>\n      <td>California</td>\n      <td>Russian River Valley</td>\n      <td>Sonoma</td>\n      <td>Virginie Boone</td>\n      <td>@vboone</td>\n      <td>Ousterhout 2014 Woods Vineyard Rosé of Pinot N...</td>\n      <td>Pinot Noir</td>\n      <td>Ousterhout</td>\n      <td>both</td>\n    </tr>\n    <tr>\n      <th>13063</th>\n      <td>US</td>\n      <td>Cigar box, café au lait, and dried tobacco aro...</td>\n      <td>Estate Grown</td>\n      <td>88</td>\n      <td>30.0</td>\n      <td>Washington</td>\n      <td>Red Mountain</td>\n      <td>Columbia Valley</td>\n      <td>Sean P. Sullivan</td>\n      <td>@wawinereport</td>\n      <td>Ambassador Vineyard 2013 Estate Grown Syrah (R...</td>\n      <td>Syrah</td>\n      <td>Ambassador Vineyard</td>\n      <td>both</td>\n    </tr>\n    <tr>\n      <th>...</th>\n      <td>...</td>\n      <td>...</td>\n      <td>...</td>\n      <td>...</td>\n      <td>...</td>\n      <td>...</td>\n      <td>...</td>\n      <td>...</td>\n      <td>...</td>\n      <td>...</td>\n      <td>...</td>\n      <td>...</td>\n      <td>...</td>\n      <td>...</td>\n    </tr>\n    <tr>\n      <th>109793</th>\n      <td>US</td>\n      <td>The tannins are so fierce on this baby Caberne...</td>\n      <td>NaN</td>\n      <td>95</td>\n      <td>55.0</td>\n      <td>California</td>\n      <td>Howell Mountain</td>\n      <td>Napa</td>\n      <td>NaN</td>\n      <td>NaN</td>\n      <td>La Jota Vineyard 2009 Merlot (Howell Mountain)</td>\n      <td>Merlot</td>\n      <td>La Jota Vineyard</td>\n      <td>left_only</td>\n    </tr>\n    <tr>\n      <th>115505</th>\n      <td>Italy</td>\n      <td>Sleek by Amarone standards, this opens with ar...</td>\n      <td>NaN</td>\n      <td>90</td>\n      <td>40.0</td>\n      <td>Veneto</td>\n      <td>Amarone della Valpolicella</td>\n      <td>NaN</td>\n      <td>Kerin O’Keefe</td>\n      <td>@kerinokeefe</td>\n      <td>Villa Annaberta 2012  Amarone della Valpolicella</td>\n      <td>Red Blend</td>\n      <td>Villa Annaberta</td>\n      <td>left_only</td>\n    </tr>\n    <tr>\n      <th>115743</th>\n      <td>Greece</td>\n      <td>Aromas of citrus, melon and orange blossom sta...</td>\n      <td>NaN</td>\n      <td>89</td>\n      <td>22.0</td>\n      <td>Cephalonia</td>\n      <td>NaN</td>\n      <td>NaN</td>\n      <td>Susan Kostrzewa</td>\n      <td>@suskostrzewa</td>\n      <td>Gentilini 2015 Robola (Cephalonia)</td>\n      <td>Robola</td>\n      <td>Gentilini</td>\n      <td>left_only</td>\n    </tr>\n    <tr>\n      <th>117429</th>\n      <td>Italy</td>\n      <td>Ripe plum, game, truffle, leather and menthol ...</td>\n      <td>NaN</td>\n      <td>87</td>\n      <td>40.0</td>\n      <td>Tuscany</td>\n      <td>Brunello di Montalcino</td>\n      <td>NaN</td>\n      <td>Kerin O’Keefe</td>\n      <td>@kerinokeefe</td>\n      <td>Poggiarellino 2011  Brunello di Montalcino</td>\n      <td>Sangiovese</td>\n      <td>Poggiarellino</td>\n      <td>left_only</td>\n    </tr>\n    <tr>\n      <th>118913</th>\n      <td>Italy</td>\n      <td>Classically structured, this still needs to op...</td>\n      <td>Villero</td>\n      <td>90</td>\n      <td>NaN</td>\n      <td>Piedmont</td>\n      <td>Barolo</td>\n      <td>NaN</td>\n      <td>Kerin O’Keefe</td>\n      <td>@kerinokeefe</td>\n      <td>Boroli 2011 Villero  (Barolo)</td>\n      <td>Nebbiolo</td>\n      <td>Boroli</td>\n      <td>left_only</td>\n    </tr>\n  </tbody>\n</table>\n<p>66 rows × 14 columns</p>\n</div>"
     },
     "execution_count": 4,
     "metadata": {},
     "output_type": "execute_result"
    }
   ],
   "source": [
    "# full join two dedupped data and find the rows only in the first with '_merge' flag\n",
    "wine_reviews_all = wine_reviews.merge(wine_reviews_ddp, how='outer', indicator=True)\n",
    "dup_wine_desc = wine_reviews_all[wine_reviews_all['_merge']=='left_only'].description\n",
    "\n",
    "wine_reviews_all[wine_reviews_all['description'].isin(dup_wine_desc)]"
   ],
   "metadata": {
    "collapsed": false,
    "pycharm": {
     "name": "#%%\n"
    }
   }
  },
  {
   "cell_type": "code",
   "execution_count": 5,
   "outputs": [
    {
     "data": {
      "text/plain": "         index  country                                        description  \\\n119983  129966  Germany  Notes of honeysuckle and cantaloupe sweeten th...   \n119984  129967       US  Citation is given as much as a decade of bottl...   \n119985  129968   France  Well-drained gravel soil gives this wine its c...   \n119986  129969   France  A dry style of Pinot Gris, this is crisp with ...   \n119987  129970   France  Big, rich and off-dry, this is powered by inte...   \n\n                                   designation  points  price province  \\\n119983  Brauneberger Juffer-Sonnenuhr Spätlese      90   28.0    Mosel   \n119984                                     NaN      90   75.0   Oregon   \n119985                                   Kritt      90   30.0   Alsace   \n119986                                     NaN      90   32.0   Alsace   \n119987           Lieu-dit Harth Cuvée Caroline      90   21.0   Alsace   \n\n       region_1      region_2         taster_name taster_twitter_handle  \\\n119983      NaN           NaN  Anna Lee C. Iijima                   NaN   \n119984   Oregon  Oregon Other        Paul Gregutt           @paulgwine    \n119985   Alsace           NaN          Roger Voss            @vossroger   \n119986   Alsace           NaN          Roger Voss            @vossroger   \n119987   Alsace           NaN          Roger Voss            @vossroger   \n\n                                                    title         variety  \\\n119983  Dr. H. Thanisch (Erben Müller-Burggraef) 2013 ...        Riesling   \n119984                  Citation 2004 Pinot Noir (Oregon)      Pinot Noir   \n119985  Domaine Gresser 2013 Kritt Gewurztraminer (Als...  Gewürztraminer   \n119986      Domaine Marcel Deiss 2012 Pinot Gris (Alsace)      Pinot Gris   \n119987  Domaine Schoffit 2012 Lieu-dit Harth Cuvée Car...  Gewürztraminer   \n\n                                          winery  \n119983  Dr. H. Thanisch (Erben Müller-Burggraef)  \n119984                                  Citation  \n119985                           Domaine Gresser  \n119986                      Domaine Marcel Deiss  \n119987                          Domaine Schoffit  ",
      "text/html": "<div>\n<style scoped>\n    .dataframe tbody tr th:only-of-type {\n        vertical-align: middle;\n    }\n\n    .dataframe tbody tr th {\n        vertical-align: top;\n    }\n\n    .dataframe thead th {\n        text-align: right;\n    }\n</style>\n<table border=\"1\" class=\"dataframe\">\n  <thead>\n    <tr style=\"text-align: right;\">\n      <th></th>\n      <th>index</th>\n      <th>country</th>\n      <th>description</th>\n      <th>designation</th>\n      <th>points</th>\n      <th>price</th>\n      <th>province</th>\n      <th>region_1</th>\n      <th>region_2</th>\n      <th>taster_name</th>\n      <th>taster_twitter_handle</th>\n      <th>title</th>\n      <th>variety</th>\n      <th>winery</th>\n    </tr>\n  </thead>\n  <tbody>\n    <tr>\n      <th>119983</th>\n      <td>129966</td>\n      <td>Germany</td>\n      <td>Notes of honeysuckle and cantaloupe sweeten th...</td>\n      <td>Brauneberger Juffer-Sonnenuhr Spätlese</td>\n      <td>90</td>\n      <td>28.0</td>\n      <td>Mosel</td>\n      <td>NaN</td>\n      <td>NaN</td>\n      <td>Anna Lee C. Iijima</td>\n      <td>NaN</td>\n      <td>Dr. H. Thanisch (Erben Müller-Burggraef) 2013 ...</td>\n      <td>Riesling</td>\n      <td>Dr. H. Thanisch (Erben Müller-Burggraef)</td>\n    </tr>\n    <tr>\n      <th>119984</th>\n      <td>129967</td>\n      <td>US</td>\n      <td>Citation is given as much as a decade of bottl...</td>\n      <td>NaN</td>\n      <td>90</td>\n      <td>75.0</td>\n      <td>Oregon</td>\n      <td>Oregon</td>\n      <td>Oregon Other</td>\n      <td>Paul Gregutt</td>\n      <td>@paulgwine</td>\n      <td>Citation 2004 Pinot Noir (Oregon)</td>\n      <td>Pinot Noir</td>\n      <td>Citation</td>\n    </tr>\n    <tr>\n      <th>119985</th>\n      <td>129968</td>\n      <td>France</td>\n      <td>Well-drained gravel soil gives this wine its c...</td>\n      <td>Kritt</td>\n      <td>90</td>\n      <td>30.0</td>\n      <td>Alsace</td>\n      <td>Alsace</td>\n      <td>NaN</td>\n      <td>Roger Voss</td>\n      <td>@vossroger</td>\n      <td>Domaine Gresser 2013 Kritt Gewurztraminer (Als...</td>\n      <td>Gewürztraminer</td>\n      <td>Domaine Gresser</td>\n    </tr>\n    <tr>\n      <th>119986</th>\n      <td>129969</td>\n      <td>France</td>\n      <td>A dry style of Pinot Gris, this is crisp with ...</td>\n      <td>NaN</td>\n      <td>90</td>\n      <td>32.0</td>\n      <td>Alsace</td>\n      <td>Alsace</td>\n      <td>NaN</td>\n      <td>Roger Voss</td>\n      <td>@vossroger</td>\n      <td>Domaine Marcel Deiss 2012 Pinot Gris (Alsace)</td>\n      <td>Pinot Gris</td>\n      <td>Domaine Marcel Deiss</td>\n    </tr>\n    <tr>\n      <th>119987</th>\n      <td>129970</td>\n      <td>France</td>\n      <td>Big, rich and off-dry, this is powered by inte...</td>\n      <td>Lieu-dit Harth Cuvée Caroline</td>\n      <td>90</td>\n      <td>21.0</td>\n      <td>Alsace</td>\n      <td>Alsace</td>\n      <td>NaN</td>\n      <td>Roger Voss</td>\n      <td>@vossroger</td>\n      <td>Domaine Schoffit 2012 Lieu-dit Harth Cuvée Car...</td>\n      <td>Gewürztraminer</td>\n      <td>Domaine Schoffit</td>\n    </tr>\n  </tbody>\n</table>\n</div>"
     },
     "execution_count": 5,
     "metadata": {},
     "output_type": "execute_result"
    }
   ],
   "source": [
    "wine_reviews.reset_index().tail()"
   ],
   "metadata": {
    "collapsed": false,
    "pycharm": {
     "name": "#%%\n"
    }
   }
  },
  {
   "cell_type": "code",
   "execution_count": 6,
   "outputs": [],
   "source": [
    "wine_reviews = wine_reviews.reset_index(drop = True)"
   ],
   "metadata": {
    "collapsed": false,
    "pycharm": {
     "name": "#%%\n"
    }
   }
  },
  {
   "cell_type": "code",
   "execution_count": 7,
   "outputs": [
    {
     "data": {
      "text/plain": "              points          price\ncount  119988.000000  111593.000000\nmean       88.442236      35.620747\nstd         3.092915      42.103728\nmin        80.000000       4.000000\n25%        86.000000      17.000000\n50%        88.000000      25.000000\n75%        91.000000      42.000000\nmax       100.000000    3300.000000",
      "text/html": "<div>\n<style scoped>\n    .dataframe tbody tr th:only-of-type {\n        vertical-align: middle;\n    }\n\n    .dataframe tbody tr th {\n        vertical-align: top;\n    }\n\n    .dataframe thead th {\n        text-align: right;\n    }\n</style>\n<table border=\"1\" class=\"dataframe\">\n  <thead>\n    <tr style=\"text-align: right;\">\n      <th></th>\n      <th>points</th>\n      <th>price</th>\n    </tr>\n  </thead>\n  <tbody>\n    <tr>\n      <th>count</th>\n      <td>119988.000000</td>\n      <td>111593.000000</td>\n    </tr>\n    <tr>\n      <th>mean</th>\n      <td>88.442236</td>\n      <td>35.620747</td>\n    </tr>\n    <tr>\n      <th>std</th>\n      <td>3.092915</td>\n      <td>42.103728</td>\n    </tr>\n    <tr>\n      <th>min</th>\n      <td>80.000000</td>\n      <td>4.000000</td>\n    </tr>\n    <tr>\n      <th>25%</th>\n      <td>86.000000</td>\n      <td>17.000000</td>\n    </tr>\n    <tr>\n      <th>50%</th>\n      <td>88.000000</td>\n      <td>25.000000</td>\n    </tr>\n    <tr>\n      <th>75%</th>\n      <td>91.000000</td>\n      <td>42.000000</td>\n    </tr>\n    <tr>\n      <th>max</th>\n      <td>100.000000</td>\n      <td>3300.000000</td>\n    </tr>\n  </tbody>\n</table>\n</div>"
     },
     "execution_count": 7,
     "metadata": {},
     "output_type": "execute_result"
    }
   ],
   "source": [
    "wine_reviews.describe()"
   ],
   "metadata": {
    "collapsed": false,
    "pycharm": {
     "name": "#%%\n"
    }
   }
  },
  {
   "cell_type": "markdown",
   "source": [
    "One Hot Encoder\n"
   ],
   "metadata": {
    "collapsed": false
   }
  },
  {
   "cell_type": "code",
   "execution_count": 8,
   "outputs": [
    {
     "ename": "ValueError",
     "evalue": "Length of 'prefix' (4) did not match the length of the columns being encoded (8).",
     "output_type": "error",
     "traceback": [
      "\u001B[0;31m---------------------------------------------------------------------------\u001B[0m",
      "\u001B[0;31mValueError\u001B[0m                                Traceback (most recent call last)",
      "\u001B[0;32m<ipython-input-8-15390077d7b6>\u001B[0m in \u001B[0;36m<module>\u001B[0;34m\u001B[0m\n\u001B[1;32m      1\u001B[0m \u001B[0menc_cols\u001B[0m \u001B[0;34m=\u001B[0m \u001B[0mwine_reviews\u001B[0m\u001B[0;34m.\u001B[0m\u001B[0mdrop\u001B[0m\u001B[0;34m(\u001B[0m\u001B[0;34m[\u001B[0m\u001B[0;34m'description'\u001B[0m\u001B[0;34m,\u001B[0m \u001B[0;34m'points'\u001B[0m\u001B[0;34m,\u001B[0m \u001B[0;34m'price'\u001B[0m\u001B[0;34m,\u001B[0m \u001B[0;34m'designation'\u001B[0m\u001B[0;34m,\u001B[0m \u001B[0;34m'winery'\u001B[0m\u001B[0;34m]\u001B[0m\u001B[0;34m,\u001B[0m \u001B[0maxis\u001B[0m \u001B[0;34m=\u001B[0m \u001B[0;36m1\u001B[0m\u001B[0;34m)\u001B[0m\u001B[0;34m\u001B[0m\u001B[0;34m\u001B[0m\u001B[0m\n\u001B[0;32m----> 2\u001B[0;31m \u001B[0mdummies\u001B[0m \u001B[0;34m=\u001B[0m \u001B[0mpd\u001B[0m\u001B[0;34m.\u001B[0m\u001B[0mget_dummies\u001B[0m\u001B[0;34m(\u001B[0m\u001B[0menc_cols\u001B[0m\u001B[0;34m,\u001B[0m \u001B[0mprefix\u001B[0m \u001B[0;34m=\u001B[0m \u001B[0;34m[\u001B[0m\u001B[0;34m'country'\u001B[0m\u001B[0;34m,\u001B[0m \u001B[0;34m'province'\u001B[0m\u001B[0;34m,\u001B[0m \u001B[0;34m'region_1'\u001B[0m\u001B[0;34m,\u001B[0m \u001B[0;34m'variety'\u001B[0m\u001B[0;34m]\u001B[0m\u001B[0;34m)\u001B[0m\u001B[0;34m\u001B[0m\u001B[0;34m\u001B[0m\u001B[0m\n\u001B[0m\u001B[1;32m      3\u001B[0m \u001B[0;34m\u001B[0m\u001B[0m\n\u001B[1;32m      4\u001B[0m \u001B[0;31m# combined with log transformed 'price'\u001B[0m\u001B[0;34m\u001B[0m\u001B[0;34m\u001B[0m\u001B[0;34m\u001B[0m\u001B[0m\n\u001B[1;32m      5\u001B[0m \u001B[0mX_encoded\u001B[0m \u001B[0;34m=\u001B[0m \u001B[0mpd\u001B[0m\u001B[0;34m.\u001B[0m\u001B[0mconcat\u001B[0m\u001B[0;34m(\u001B[0m\u001B[0;34m[\u001B[0m\u001B[0mnp\u001B[0m\u001B[0;34m.\u001B[0m\u001B[0mlog\u001B[0m\u001B[0;34m(\u001B[0m\u001B[0mwine_reviews\u001B[0m\u001B[0;34m[\u001B[0m\u001B[0;34m'price'\u001B[0m\u001B[0;34m]\u001B[0m\u001B[0;34m)\u001B[0m\u001B[0;34m,\u001B[0m \u001B[0mdummies\u001B[0m\u001B[0;34m]\u001B[0m\u001B[0;34m,\u001B[0m \u001B[0maxis\u001B[0m \u001B[0;34m=\u001B[0m \u001B[0;36m1\u001B[0m\u001B[0;34m)\u001B[0m\u001B[0;34m\u001B[0m\u001B[0;34m\u001B[0m\u001B[0m\n",
      "\u001B[0;32m/usr/local/anaconda3/envs/mandatory-2/lib/python3.7/site-packages/pandas/core/reshape/reshape.py\u001B[0m in \u001B[0;36mget_dummies\u001B[0;34m(data, prefix, prefix_sep, dummy_na, columns, sparse, drop_first, dtype)\u001B[0m\n\u001B[1;32m    882\u001B[0m                     \u001B[0;32mraise\u001B[0m \u001B[0mValueError\u001B[0m\u001B[0;34m(\u001B[0m\u001B[0mlen_msg\u001B[0m\u001B[0;34m)\u001B[0m\u001B[0;34m\u001B[0m\u001B[0;34m\u001B[0m\u001B[0m\n\u001B[1;32m    883\u001B[0m \u001B[0;34m\u001B[0m\u001B[0m\n\u001B[0;32m--> 884\u001B[0;31m         \u001B[0mcheck_len\u001B[0m\u001B[0;34m(\u001B[0m\u001B[0mprefix\u001B[0m\u001B[0;34m,\u001B[0m \u001B[0;34m\"prefix\"\u001B[0m\u001B[0;34m)\u001B[0m\u001B[0;34m\u001B[0m\u001B[0;34m\u001B[0m\u001B[0m\n\u001B[0m\u001B[1;32m    885\u001B[0m         \u001B[0mcheck_len\u001B[0m\u001B[0;34m(\u001B[0m\u001B[0mprefix_sep\u001B[0m\u001B[0;34m,\u001B[0m \u001B[0;34m\"prefix_sep\"\u001B[0m\u001B[0;34m)\u001B[0m\u001B[0;34m\u001B[0m\u001B[0;34m\u001B[0m\u001B[0m\n\u001B[1;32m    886\u001B[0m \u001B[0;34m\u001B[0m\u001B[0m\n",
      "\u001B[0;32m/usr/local/anaconda3/envs/mandatory-2/lib/python3.7/site-packages/pandas/core/reshape/reshape.py\u001B[0m in \u001B[0;36mcheck_len\u001B[0;34m(item, name)\u001B[0m\n\u001B[1;32m    880\u001B[0m                         \u001B[0mname\u001B[0m\u001B[0;34m=\u001B[0m\u001B[0mname\u001B[0m\u001B[0;34m,\u001B[0m \u001B[0mlen_item\u001B[0m\u001B[0;34m=\u001B[0m\u001B[0mlen\u001B[0m\u001B[0;34m(\u001B[0m\u001B[0mitem\u001B[0m\u001B[0;34m)\u001B[0m\u001B[0;34m,\u001B[0m \u001B[0mlen_enc\u001B[0m\u001B[0;34m=\u001B[0m\u001B[0mdata_to_encode\u001B[0m\u001B[0;34m.\u001B[0m\u001B[0mshape\u001B[0m\u001B[0;34m[\u001B[0m\u001B[0;36m1\u001B[0m\u001B[0;34m]\u001B[0m\u001B[0;34m\u001B[0m\u001B[0;34m\u001B[0m\u001B[0m\n\u001B[1;32m    881\u001B[0m                     )\n\u001B[0;32m--> 882\u001B[0;31m                     \u001B[0;32mraise\u001B[0m \u001B[0mValueError\u001B[0m\u001B[0;34m(\u001B[0m\u001B[0mlen_msg\u001B[0m\u001B[0;34m)\u001B[0m\u001B[0;34m\u001B[0m\u001B[0;34m\u001B[0m\u001B[0m\n\u001B[0m\u001B[1;32m    883\u001B[0m \u001B[0;34m\u001B[0m\u001B[0m\n\u001B[1;32m    884\u001B[0m         \u001B[0mcheck_len\u001B[0m\u001B[0;34m(\u001B[0m\u001B[0mprefix\u001B[0m\u001B[0;34m,\u001B[0m \u001B[0;34m\"prefix\"\u001B[0m\u001B[0;34m)\u001B[0m\u001B[0;34m\u001B[0m\u001B[0;34m\u001B[0m\u001B[0m\n",
      "\u001B[0;31mValueError\u001B[0m: Length of 'prefix' (4) did not match the length of the columns being encoded (8)."
     ]
    }
   ],
   "source": [
    "enc_cols = wine_reviews.drop(['description', 'points', 'price', 'designation', 'winery'], axis = 1)\n",
    "dummies = pd.get_dummies(enc_cols, prefix = ['country', 'province', 'region_1', 'variety'])\n",
    "\n",
    "# combined with log transformed 'price'\n",
    "X_encoded = pd.concat([np.log(wine_reviews['price']), dummies], axis = 1)\n",
    "X_encoded.shape\n"
   ],
   "metadata": {
    "collapsed": false,
    "pycharm": {
     "name": "#%%\n"
    }
   }
  }
 ],
 "metadata": {
  "kernelspec": {
   "display_name": "Python 3",
   "language": "python",
   "name": "python3"
  },
  "language_info": {
   "codemirror_mode": {
    "name": "ipython",
    "version": 2
   },
   "file_extension": ".py",
   "mimetype": "text/x-python",
   "name": "python",
   "nbconvert_exporter": "python",
   "pygments_lexer": "ipython2",
   "version": "2.7.6"
  }
 },
 "nbformat": 4,
 "nbformat_minor": 0
}